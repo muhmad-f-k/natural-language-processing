{
 "cells": [
  {
   "cell_type": "markdown",
   "id": "300542bb",
   "metadata": {},
   "source": [
    "When working with text in Natural Language Processing,\n",
    "text pre-processing is a necessary step (NLP). Real-world human-written text data\n",
    "includes a variety of misspelled words, short words, unique symbols, emoticons"
   ]
  },
  {
   "cell_type": "code",
   "execution_count": 47,
   "id": "7d1f912e",
   "metadata": {},
   "outputs": [],
   "source": [
    "import os\n",
    "import pandas as pd\n",
    "import string\n",
    "import re\n",
    "import nltk\n",
    "import numpy as np\n",
    "#Path where I have the folder with the text file so in my case as you se below\n",
    "basepath = 'C:\\\\Users\\\\Muhmad\\\\Downloads\\\\aclImdb_v1\\\\aclImdb'"
   ]
  },
  {
   "cell_type": "markdown",
   "id": "37af53dc",
   "metadata": {},
   "source": [
    "# Reading the data from folder\n",
    "\n",
    "The code will enter each folder and read the data and will mark each one in a class as pos or neg"
   ]
  },
  {
   "cell_type": "code",
   "execution_count": 48,
   "id": "c09cccad",
   "metadata": {},
   "outputs": [],
   "source": [
    "df = pd.DataFrame(columns=['Review', 'Class'])\n",
    "for s in ('test', 'train'):\n",
    "    for l in ('pos', 'neg'):\n",
    "        labels=l\n",
    "        path = os.path.join(basepath, s, l)\n",
    "        for file in sorted(os.listdir(path)):\n",
    "            with open(os.path.join(path, file), 'r', encoding='utf-8') as infile:\n",
    "                 txt = infile.read()\n",
    "            df.loc[len(df.index)] = [txt, labels]\n"
   ]
  },
  {
   "cell_type": "markdown",
   "id": "7e2bcb50",
   "metadata": {},
   "source": [
    "## Printing the data that I have stored in DataFrame as df"
   ]
  },
  {
   "cell_type": "code",
   "execution_count": 60,
   "id": "73a58bd7",
   "metadata": {},
   "outputs": [
    {
     "data": {
      "text/html": [
       "<div>\n",
       "<style scoped>\n",
       "    .dataframe tbody tr th:only-of-type {\n",
       "        vertical-align: middle;\n",
       "    }\n",
       "\n",
       "    .dataframe tbody tr th {\n",
       "        vertical-align: top;\n",
       "    }\n",
       "\n",
       "    .dataframe thead th {\n",
       "        text-align: right;\n",
       "    }\n",
       "</style>\n",
       "<table border=\"1\" class=\"dataframe\">\n",
       "  <thead>\n",
       "    <tr style=\"text-align: right;\">\n",
       "      <th></th>\n",
       "      <th>Review</th>\n",
       "      <th>Class</th>\n",
       "      <th>text_wo_stopfreq</th>\n",
       "      <th>text_wo_stopfreqrare</th>\n",
       "    </tr>\n",
       "  </thead>\n",
       "  <tbody>\n",
       "    <tr>\n",
       "      <th>0</th>\n",
       "      <td>I went and saw this movie last night after bei...</td>\n",
       "      <td>pos</td>\n",
       "      <td>went saw last night coaxed friends mine Ill ad...</td>\n",
       "      <td>went saw last night coaxed friends mine Ill ad...</td>\n",
       "    </tr>\n",
       "    <tr>\n",
       "      <th>1</th>\n",
       "      <td>Actor turned director Bill Paxton follows up h...</td>\n",
       "      <td>pos</td>\n",
       "      <td>Actor turned director Bill Paxton follows prom...</td>\n",
       "      <td>Actor turned director Bill Paxton follows prom...</td>\n",
       "    </tr>\n",
       "    <tr>\n",
       "      <th>2</th>\n",
       "      <td>As a recreational golfer with some knowledge o...</td>\n",
       "      <td>pos</td>\n",
       "      <td>As recreational golfer knowledge sports histor...</td>\n",
       "      <td>As recreational golfer knowledge sports histor...</td>\n",
       "    </tr>\n",
       "    <tr>\n",
       "      <th>3</th>\n",
       "      <td>I saw this film in a sneak preview, and it is ...</td>\n",
       "      <td>pos</td>\n",
       "      <td>saw sneak preview delightful cinematography un...</td>\n",
       "      <td>saw sneak preview delightful cinematography un...</td>\n",
       "    </tr>\n",
       "    <tr>\n",
       "      <th>4</th>\n",
       "      <td>Bill Paxton has taken the true story of the 19...</td>\n",
       "      <td>pos</td>\n",
       "      <td>Bill Paxton taken true story 1913 US golf open...</td>\n",
       "      <td>Bill Paxton taken true story 1913 US golf open...</td>\n",
       "    </tr>\n",
       "    <tr>\n",
       "      <th>...</th>\n",
       "      <td>...</td>\n",
       "      <td>...</td>\n",
       "      <td>...</td>\n",
       "      <td>...</td>\n",
       "    </tr>\n",
       "    <tr>\n",
       "      <th>49996</th>\n",
       "      <td>Towards the end of the movie, I felt it was to...</td>\n",
       "      <td>neg</td>\n",
       "      <td>Towards end felt technical felt classroom watc...</td>\n",
       "      <td>Towards end felt technical felt classroom watc...</td>\n",
       "    </tr>\n",
       "    <tr>\n",
       "      <th>49997</th>\n",
       "      <td>This is the kind of movie that my enemies cont...</td>\n",
       "      <td>neg</td>\n",
       "      <td>kind enemies content watch time bloody true wa...</td>\n",
       "      <td>kind enemies content watch time bloody true wa...</td>\n",
       "    </tr>\n",
       "    <tr>\n",
       "      <th>49998</th>\n",
       "      <td>I saw 'Descent' last night at the Stockholm Fi...</td>\n",
       "      <td>neg</td>\n",
       "      <td>saw Descent last night Stockholm Film Festival...</td>\n",
       "      <td>saw Descent last night Stockholm Film Festival...</td>\n",
       "    </tr>\n",
       "    <tr>\n",
       "      <th>49999</th>\n",
       "      <td>Some films that you pick up for a pound turn o...</td>\n",
       "      <td>neg</td>\n",
       "      <td>Some films pick pound turn rather 23rd Century...</td>\n",
       "      <td>Some films pick pound turn rather 23rd Century...</td>\n",
       "    </tr>\n",
       "    <tr>\n",
       "      <th>50000</th>\n",
       "      <td>This is one of the dumbest films, I've ever se...</td>\n",
       "      <td>neg</td>\n",
       "      <td>dumbest films Ive ever seen It rips nearly eve...</td>\n",
       "      <td>dumbest films Ive ever seen It rips nearly eve...</td>\n",
       "    </tr>\n",
       "  </tbody>\n",
       "</table>\n",
       "<p>50001 rows × 4 columns</p>\n",
       "</div>"
      ],
      "text/plain": [
       "                                                  Review Class  \\\n",
       "0      I went and saw this movie last night after bei...   pos   \n",
       "1      Actor turned director Bill Paxton follows up h...   pos   \n",
       "2      As a recreational golfer with some knowledge o...   pos   \n",
       "3      I saw this film in a sneak preview, and it is ...   pos   \n",
       "4      Bill Paxton has taken the true story of the 19...   pos   \n",
       "...                                                  ...   ...   \n",
       "49996  Towards the end of the movie, I felt it was to...   neg   \n",
       "49997  This is the kind of movie that my enemies cont...   neg   \n",
       "49998  I saw 'Descent' last night at the Stockholm Fi...   neg   \n",
       "49999  Some films that you pick up for a pound turn o...   neg   \n",
       "50000  This is one of the dumbest films, I've ever se...   neg   \n",
       "\n",
       "                                        text_wo_stopfreq  \\\n",
       "0      went saw last night coaxed friends mine Ill ad...   \n",
       "1      Actor turned director Bill Paxton follows prom...   \n",
       "2      As recreational golfer knowledge sports histor...   \n",
       "3      saw sneak preview delightful cinematography un...   \n",
       "4      Bill Paxton taken true story 1913 US golf open...   \n",
       "...                                                  ...   \n",
       "49996  Towards end felt technical felt classroom watc...   \n",
       "49997  kind enemies content watch time bloody true wa...   \n",
       "49998  saw Descent last night Stockholm Film Festival...   \n",
       "49999  Some films pick pound turn rather 23rd Century...   \n",
       "50000  dumbest films Ive ever seen It rips nearly eve...   \n",
       "\n",
       "                                    text_wo_stopfreqrare  \n",
       "0      went saw last night coaxed friends mine Ill ad...  \n",
       "1      Actor turned director Bill Paxton follows prom...  \n",
       "2      As recreational golfer knowledge sports histor...  \n",
       "3      saw sneak preview delightful cinematography un...  \n",
       "4      Bill Paxton taken true story 1913 US golf open...  \n",
       "...                                                  ...  \n",
       "49996  Towards end felt technical felt classroom watc...  \n",
       "49997  kind enemies content watch time bloody true wa...  \n",
       "49998  saw Descent last night Stockholm Film Festival...  \n",
       "49999  Some films pick pound turn rather 23rd Century...  \n",
       "50000  dumbest films Ive ever seen It rips nearly eve...  \n",
       "\n",
       "[50001 rows x 4 columns]"
      ]
     },
     "execution_count": 60,
     "metadata": {},
     "output_type": "execute_result"
    }
   ],
   "source": [
    "df"
   ]
  },
  {
   "cell_type": "markdown",
   "id": "768e9b05",
   "metadata": {},
   "source": [
    "## Lower Casing\n",
    "All data should be converted to lowercase as this will aid in preprocessing and\n",
    "#later parsing stages of the NLP application."
   ]
  },
  {
   "cell_type": "code",
   "execution_count": 49,
   "id": "0a887dda",
   "metadata": {},
   "outputs": [
    {
     "data": {
      "text/html": [
       "<div>\n",
       "<style scoped>\n",
       "    .dataframe tbody tr th:only-of-type {\n",
       "        vertical-align: middle;\n",
       "    }\n",
       "\n",
       "    .dataframe tbody tr th {\n",
       "        vertical-align: top;\n",
       "    }\n",
       "\n",
       "    .dataframe thead th {\n",
       "        text-align: right;\n",
       "    }\n",
       "</style>\n",
       "<table border=\"1\" class=\"dataframe\">\n",
       "  <thead>\n",
       "    <tr style=\"text-align: right;\">\n",
       "      <th></th>\n",
       "      <th>Review</th>\n",
       "      <th>Class</th>\n",
       "      <th>text_lower</th>\n",
       "    </tr>\n",
       "  </thead>\n",
       "  <tbody>\n",
       "    <tr>\n",
       "      <th>0</th>\n",
       "      <td>I went and saw this movie last night after bei...</td>\n",
       "      <td>pos</td>\n",
       "      <td>i went and saw this movie last night after bei...</td>\n",
       "    </tr>\n",
       "    <tr>\n",
       "      <th>1</th>\n",
       "      <td>Actor turned director Bill Paxton follows up h...</td>\n",
       "      <td>pos</td>\n",
       "      <td>actor turned director bill paxton follows up h...</td>\n",
       "    </tr>\n",
       "    <tr>\n",
       "      <th>2</th>\n",
       "      <td>As a recreational golfer with some knowledge o...</td>\n",
       "      <td>pos</td>\n",
       "      <td>as a recreational golfer with some knowledge o...</td>\n",
       "    </tr>\n",
       "    <tr>\n",
       "      <th>3</th>\n",
       "      <td>I saw this film in a sneak preview, and it is ...</td>\n",
       "      <td>pos</td>\n",
       "      <td>i saw this film in a sneak preview, and it is ...</td>\n",
       "    </tr>\n",
       "    <tr>\n",
       "      <th>4</th>\n",
       "      <td>Bill Paxton has taken the true story of the 19...</td>\n",
       "      <td>pos</td>\n",
       "      <td>bill paxton has taken the true story of the 19...</td>\n",
       "    </tr>\n",
       "  </tbody>\n",
       "</table>\n",
       "</div>"
      ],
      "text/plain": [
       "                                              Review Class  \\\n",
       "0  I went and saw this movie last night after bei...   pos   \n",
       "1  Actor turned director Bill Paxton follows up h...   pos   \n",
       "2  As a recreational golfer with some knowledge o...   pos   \n",
       "3  I saw this film in a sneak preview, and it is ...   pos   \n",
       "4  Bill Paxton has taken the true story of the 19...   pos   \n",
       "\n",
       "                                          text_lower  \n",
       "0  i went and saw this movie last night after bei...  \n",
       "1  actor turned director bill paxton follows up h...  \n",
       "2  as a recreational golfer with some knowledge o...  \n",
       "3  i saw this film in a sneak preview, and it is ...  \n",
       "4  bill paxton has taken the true story of the 19...  "
      ]
     },
     "execution_count": 49,
     "metadata": {},
     "output_type": "execute_result"
    }
   ],
   "source": [
    "df[\"text_lower\"] = df[\"Review\"].str.lower()\n",
    "df.head()"
   ]
  },
  {
   "cell_type": "markdown",
   "id": "17c2b716",
   "metadata": {},
   "source": [
    "## Punctuations Removal\n",
    "Output of string.punctuation\n",
    "!\"#$%&'()*+, -./:;<=>?@[\\]^_`{|}~\n",
    "Cleans all of thos so we dont have noise in out data"
   ]
  },
  {
   "cell_type": "code",
   "execution_count": 50,
   "id": "641662ba",
   "metadata": {},
   "outputs": [
    {
     "data": {
      "text/html": [
       "<div>\n",
       "<style scoped>\n",
       "    .dataframe tbody tr th:only-of-type {\n",
       "        vertical-align: middle;\n",
       "    }\n",
       "\n",
       "    .dataframe tbody tr th {\n",
       "        vertical-align: top;\n",
       "    }\n",
       "\n",
       "    .dataframe thead th {\n",
       "        text-align: right;\n",
       "    }\n",
       "</style>\n",
       "<table border=\"1\" class=\"dataframe\">\n",
       "  <thead>\n",
       "    <tr style=\"text-align: right;\">\n",
       "      <th></th>\n",
       "      <th>Review</th>\n",
       "      <th>Class</th>\n",
       "      <th>text_wo_punct</th>\n",
       "    </tr>\n",
       "  </thead>\n",
       "  <tbody>\n",
       "    <tr>\n",
       "      <th>0</th>\n",
       "      <td>I went and saw this movie last night after bei...</td>\n",
       "      <td>pos</td>\n",
       "      <td>I went and saw this movie last night after bei...</td>\n",
       "    </tr>\n",
       "    <tr>\n",
       "      <th>1</th>\n",
       "      <td>Actor turned director Bill Paxton follows up h...</td>\n",
       "      <td>pos</td>\n",
       "      <td>Actor turned director Bill Paxton follows up h...</td>\n",
       "    </tr>\n",
       "    <tr>\n",
       "      <th>2</th>\n",
       "      <td>As a recreational golfer with some knowledge o...</td>\n",
       "      <td>pos</td>\n",
       "      <td>As a recreational golfer with some knowledge o...</td>\n",
       "    </tr>\n",
       "    <tr>\n",
       "      <th>3</th>\n",
       "      <td>I saw this film in a sneak preview, and it is ...</td>\n",
       "      <td>pos</td>\n",
       "      <td>I saw this film in a sneak preview and it is d...</td>\n",
       "    </tr>\n",
       "    <tr>\n",
       "      <th>4</th>\n",
       "      <td>Bill Paxton has taken the true story of the 19...</td>\n",
       "      <td>pos</td>\n",
       "      <td>Bill Paxton has taken the true story of the 19...</td>\n",
       "    </tr>\n",
       "  </tbody>\n",
       "</table>\n",
       "</div>"
      ],
      "text/plain": [
       "                                              Review Class  \\\n",
       "0  I went and saw this movie last night after bei...   pos   \n",
       "1  Actor turned director Bill Paxton follows up h...   pos   \n",
       "2  As a recreational golfer with some knowledge o...   pos   \n",
       "3  I saw this film in a sneak preview, and it is ...   pos   \n",
       "4  Bill Paxton has taken the true story of the 19...   pos   \n",
       "\n",
       "                                       text_wo_punct  \n",
       "0  I went and saw this movie last night after bei...  \n",
       "1  Actor turned director Bill Paxton follows up h...  \n",
       "2  As a recreational golfer with some knowledge o...  \n",
       "3  I saw this film in a sneak preview and it is d...  \n",
       "4  Bill Paxton has taken the true story of the 19...  "
      ]
     },
     "execution_count": 50,
     "metadata": {},
     "output_type": "execute_result"
    }
   ],
   "source": [
    "df.drop([\"text_lower\"], axis=1, inplace=True)\n",
    "\n",
    "PUNCT_TO_REMOVE = string.punctuation\n",
    "def remove_punctuation(text):\n",
    "    return text.translate(str.maketrans('', '', PUNCT_TO_REMOVE))\n",
    "\n",
    "df[\"text_wo_punct\"] = df[\"Review\"].apply(lambda text: remove_punctuation(text))\n",
    "df.head()"
   ]
  },
  {
   "cell_type": "markdown",
   "id": "f64326e0",
   "metadata": {},
   "source": [
    "## Stopwords Removal\n",
    "\n",
    "#The idea is to exclude words that appear frequently throughout all of the corpus's documents.\n",
    "#Pronouns and articles are typically categorized as stop words.\n",
    "#These terms are not highly discriminative because they have little relevance in some NLP tasks like information retrieval and classification."
   ]
  },
  {
   "cell_type": "code",
   "execution_count": 51,
   "id": "f9d9d824",
   "metadata": {},
   "outputs": [
    {
     "name": "stderr",
     "output_type": "stream",
     "text": [
      "[nltk_data] Downloading package stopwords to\n",
      "[nltk_data]     C:\\Users\\Muhmad\\AppData\\Roaming\\nltk_data...\n",
      "[nltk_data]   Package stopwords is already up-to-date!\n"
     ]
    },
    {
     "data": {
      "text/html": [
       "<div>\n",
       "<style scoped>\n",
       "    .dataframe tbody tr th:only-of-type {\n",
       "        vertical-align: middle;\n",
       "    }\n",
       "\n",
       "    .dataframe tbody tr th {\n",
       "        vertical-align: top;\n",
       "    }\n",
       "\n",
       "    .dataframe thead th {\n",
       "        text-align: right;\n",
       "    }\n",
       "</style>\n",
       "<table border=\"1\" class=\"dataframe\">\n",
       "  <thead>\n",
       "    <tr style=\"text-align: right;\">\n",
       "      <th></th>\n",
       "      <th>Review</th>\n",
       "      <th>Class</th>\n",
       "      <th>text_wo_punct</th>\n",
       "      <th>text_wo_stop</th>\n",
       "    </tr>\n",
       "  </thead>\n",
       "  <tbody>\n",
       "    <tr>\n",
       "      <th>0</th>\n",
       "      <td>I went and saw this movie last night after bei...</td>\n",
       "      <td>pos</td>\n",
       "      <td>I went and saw this movie last night after bei...</td>\n",
       "      <td>I went saw movie last night coaxed friends min...</td>\n",
       "    </tr>\n",
       "    <tr>\n",
       "      <th>1</th>\n",
       "      <td>Actor turned director Bill Paxton follows up h...</td>\n",
       "      <td>pos</td>\n",
       "      <td>Actor turned director Bill Paxton follows up h...</td>\n",
       "      <td>Actor turned director Bill Paxton follows prom...</td>\n",
       "    </tr>\n",
       "    <tr>\n",
       "      <th>2</th>\n",
       "      <td>As a recreational golfer with some knowledge o...</td>\n",
       "      <td>pos</td>\n",
       "      <td>As a recreational golfer with some knowledge o...</td>\n",
       "      <td>As recreational golfer knowledge sports histor...</td>\n",
       "    </tr>\n",
       "    <tr>\n",
       "      <th>3</th>\n",
       "      <td>I saw this film in a sneak preview, and it is ...</td>\n",
       "      <td>pos</td>\n",
       "      <td>I saw this film in a sneak preview and it is d...</td>\n",
       "      <td>I saw film sneak preview delightful The cinema...</td>\n",
       "    </tr>\n",
       "    <tr>\n",
       "      <th>4</th>\n",
       "      <td>Bill Paxton has taken the true story of the 19...</td>\n",
       "      <td>pos</td>\n",
       "      <td>Bill Paxton has taken the true story of the 19...</td>\n",
       "      <td>Bill Paxton taken true story 1913 US golf open...</td>\n",
       "    </tr>\n",
       "  </tbody>\n",
       "</table>\n",
       "</div>"
      ],
      "text/plain": [
       "                                              Review Class  \\\n",
       "0  I went and saw this movie last night after bei...   pos   \n",
       "1  Actor turned director Bill Paxton follows up h...   pos   \n",
       "2  As a recreational golfer with some knowledge o...   pos   \n",
       "3  I saw this film in a sneak preview, and it is ...   pos   \n",
       "4  Bill Paxton has taken the true story of the 19...   pos   \n",
       "\n",
       "                                       text_wo_punct  \\\n",
       "0  I went and saw this movie last night after bei...   \n",
       "1  Actor turned director Bill Paxton follows up h...   \n",
       "2  As a recreational golfer with some knowledge o...   \n",
       "3  I saw this film in a sneak preview and it is d...   \n",
       "4  Bill Paxton has taken the true story of the 19...   \n",
       "\n",
       "                                        text_wo_stop  \n",
       "0  I went saw movie last night coaxed friends min...  \n",
       "1  Actor turned director Bill Paxton follows prom...  \n",
       "2  As recreational golfer knowledge sports histor...  \n",
       "3  I saw film sneak preview delightful The cinema...  \n",
       "4  Bill Paxton taken true story 1913 US golf open...  "
      ]
     },
     "execution_count": 51,
     "metadata": {},
     "output_type": "execute_result"
    }
   ],
   "source": [
    "nltk.download('stopwords')\n",
    "from nltk.corpus import stopwords\n",
    "\", \".join(stopwords.words('english'))\n",
    "\n",
    "STOPWORDS = set(stopwords.words('english'))\n",
    "def remove_stopwords(text):\n",
    "    \"\"\"custom function to remove the stopwords\"\"\"\n",
    "    return \" \".join([word for word in str(text).split() if word not in STOPWORDS])\n",
    "\n",
    "df[\"text_wo_stop\"] = df[\"text_wo_punct\"].apply(lambda text: remove_stopwords(text))\n",
    "df.head()"
   ]
  },
  {
   "cell_type": "markdown",
   "id": "8652df41",
   "metadata": {},
   "source": [
    "## Frequent Words Removal\n",
    "Because the most common words don't provide us with much information,\n",
    "it is advantageous to exclude them.\n",
    "\n",
    "When i Printed all the text from text files so I saw alot of <br>,\n",
    "Wich we dont need it in out text since it just noise"
   ]
  },
  {
   "cell_type": "code",
   "execution_count": 52,
   "id": "8640747b",
   "metadata": {},
   "outputs": [
    {
     "data": {
      "text/plain": [
       "[('I', 142712),\n",
       " ('br', 113790),\n",
       " ('The', 88546),\n",
       " ('movie', 82288),\n",
       " ('film', 73486),\n",
       " ('one', 46299),\n",
       " ('like', 37489),\n",
       " ('This', 29146),\n",
       " ('good', 27401),\n",
       " ('would', 23754)]"
      ]
     },
     "execution_count": 52,
     "metadata": {},
     "output_type": "execute_result"
    }
   ],
   "source": [
    "from collections import Counter\n",
    "cnt = Counter()\n",
    "for text in df[\"text_wo_stop\"].values:\n",
    "    for word in text.split():\n",
    "        cnt[word] += 1\n",
    "        \n",
    "cnt.most_common(10)"
   ]
  },
  {
   "cell_type": "code",
   "execution_count": 53,
   "id": "2f2b32f6",
   "metadata": {},
   "outputs": [
    {
     "data": {
      "text/html": [
       "<div>\n",
       "<style scoped>\n",
       "    .dataframe tbody tr th:only-of-type {\n",
       "        vertical-align: middle;\n",
       "    }\n",
       "\n",
       "    .dataframe tbody tr th {\n",
       "        vertical-align: top;\n",
       "    }\n",
       "\n",
       "    .dataframe thead th {\n",
       "        text-align: right;\n",
       "    }\n",
       "</style>\n",
       "<table border=\"1\" class=\"dataframe\">\n",
       "  <thead>\n",
       "    <tr style=\"text-align: right;\">\n",
       "      <th></th>\n",
       "      <th>Review</th>\n",
       "      <th>Class</th>\n",
       "      <th>text_wo_punct</th>\n",
       "      <th>text_wo_stop</th>\n",
       "      <th>text_wo_stopfreq</th>\n",
       "    </tr>\n",
       "  </thead>\n",
       "  <tbody>\n",
       "    <tr>\n",
       "      <th>0</th>\n",
       "      <td>I went and saw this movie last night after bei...</td>\n",
       "      <td>pos</td>\n",
       "      <td>I went and saw this movie last night after bei...</td>\n",
       "      <td>I went saw movie last night coaxed friends min...</td>\n",
       "      <td>went saw last night coaxed friends mine Ill ad...</td>\n",
       "    </tr>\n",
       "    <tr>\n",
       "      <th>1</th>\n",
       "      <td>Actor turned director Bill Paxton follows up h...</td>\n",
       "      <td>pos</td>\n",
       "      <td>Actor turned director Bill Paxton follows up h...</td>\n",
       "      <td>Actor turned director Bill Paxton follows prom...</td>\n",
       "      <td>Actor turned director Bill Paxton follows prom...</td>\n",
       "    </tr>\n",
       "    <tr>\n",
       "      <th>2</th>\n",
       "      <td>As a recreational golfer with some knowledge o...</td>\n",
       "      <td>pos</td>\n",
       "      <td>As a recreational golfer with some knowledge o...</td>\n",
       "      <td>As recreational golfer knowledge sports histor...</td>\n",
       "      <td>As recreational golfer knowledge sports histor...</td>\n",
       "    </tr>\n",
       "    <tr>\n",
       "      <th>3</th>\n",
       "      <td>I saw this film in a sneak preview, and it is ...</td>\n",
       "      <td>pos</td>\n",
       "      <td>I saw this film in a sneak preview and it is d...</td>\n",
       "      <td>I saw film sneak preview delightful The cinema...</td>\n",
       "      <td>saw sneak preview delightful cinematography un...</td>\n",
       "    </tr>\n",
       "    <tr>\n",
       "      <th>4</th>\n",
       "      <td>Bill Paxton has taken the true story of the 19...</td>\n",
       "      <td>pos</td>\n",
       "      <td>Bill Paxton has taken the true story of the 19...</td>\n",
       "      <td>Bill Paxton taken true story 1913 US golf open...</td>\n",
       "      <td>Bill Paxton taken true story 1913 US golf open...</td>\n",
       "    </tr>\n",
       "  </tbody>\n",
       "</table>\n",
       "</div>"
      ],
      "text/plain": [
       "                                              Review Class  \\\n",
       "0  I went and saw this movie last night after bei...   pos   \n",
       "1  Actor turned director Bill Paxton follows up h...   pos   \n",
       "2  As a recreational golfer with some knowledge o...   pos   \n",
       "3  I saw this film in a sneak preview, and it is ...   pos   \n",
       "4  Bill Paxton has taken the true story of the 19...   pos   \n",
       "\n",
       "                                       text_wo_punct  \\\n",
       "0  I went and saw this movie last night after bei...   \n",
       "1  Actor turned director Bill Paxton follows up h...   \n",
       "2  As a recreational golfer with some knowledge o...   \n",
       "3  I saw this film in a sneak preview and it is d...   \n",
       "4  Bill Paxton has taken the true story of the 19...   \n",
       "\n",
       "                                        text_wo_stop  \\\n",
       "0  I went saw movie last night coaxed friends min...   \n",
       "1  Actor turned director Bill Paxton follows prom...   \n",
       "2  As recreational golfer knowledge sports histor...   \n",
       "3  I saw film sneak preview delightful The cinema...   \n",
       "4  Bill Paxton taken true story 1913 US golf open...   \n",
       "\n",
       "                                    text_wo_stopfreq  \n",
       "0  went saw last night coaxed friends mine Ill ad...  \n",
       "1  Actor turned director Bill Paxton follows prom...  \n",
       "2  As recreational golfer knowledge sports histor...  \n",
       "3  saw sneak preview delightful cinematography un...  \n",
       "4  Bill Paxton taken true story 1913 US golf open...  "
      ]
     },
     "execution_count": 53,
     "metadata": {},
     "output_type": "execute_result"
    }
   ],
   "source": [
    "FREQWORDS = set([w for (w, wc) in cnt.most_common(10)])\n",
    "def remove_freqwords(text):\n",
    "    \"\"\"custom function to remove the frequent words\"\"\"\n",
    "    return \" \".join([word for word in str(text).split() if word not in FREQWORDS])\n",
    "\n",
    "df[\"text_wo_stopfreq\"] = df[\"text_wo_stop\"].apply(lambda text: remove_freqwords(text))\n",
    "df.head()"
   ]
  },
  {
   "cell_type": "markdown",
   "id": "06ee668f",
   "metadata": {},
   "source": [
    "## Rare Words Removal\n",
    "Using for example names as a predictor for a text classification is a problem"
   ]
  },
  {
   "cell_type": "code",
   "execution_count": 54,
   "id": "c25227c3",
   "metadata": {},
   "outputs": [
    {
     "data": {
      "text/html": [
       "<div>\n",
       "<style scoped>\n",
       "    .dataframe tbody tr th:only-of-type {\n",
       "        vertical-align: middle;\n",
       "    }\n",
       "\n",
       "    .dataframe tbody tr th {\n",
       "        vertical-align: top;\n",
       "    }\n",
       "\n",
       "    .dataframe thead th {\n",
       "        text-align: right;\n",
       "    }\n",
       "</style>\n",
       "<table border=\"1\" class=\"dataframe\">\n",
       "  <thead>\n",
       "    <tr style=\"text-align: right;\">\n",
       "      <th></th>\n",
       "      <th>Review</th>\n",
       "      <th>Class</th>\n",
       "      <th>text_wo_stopfreq</th>\n",
       "      <th>text_wo_stopfreqrare</th>\n",
       "    </tr>\n",
       "  </thead>\n",
       "  <tbody>\n",
       "    <tr>\n",
       "      <th>0</th>\n",
       "      <td>I went and saw this movie last night after bei...</td>\n",
       "      <td>pos</td>\n",
       "      <td>went saw last night coaxed friends mine Ill ad...</td>\n",
       "      <td>went saw last night coaxed friends mine Ill ad...</td>\n",
       "    </tr>\n",
       "    <tr>\n",
       "      <th>1</th>\n",
       "      <td>Actor turned director Bill Paxton follows up h...</td>\n",
       "      <td>pos</td>\n",
       "      <td>Actor turned director Bill Paxton follows prom...</td>\n",
       "      <td>Actor turned director Bill Paxton follows prom...</td>\n",
       "    </tr>\n",
       "    <tr>\n",
       "      <th>2</th>\n",
       "      <td>As a recreational golfer with some knowledge o...</td>\n",
       "      <td>pos</td>\n",
       "      <td>As recreational golfer knowledge sports histor...</td>\n",
       "      <td>As recreational golfer knowledge sports histor...</td>\n",
       "    </tr>\n",
       "    <tr>\n",
       "      <th>3</th>\n",
       "      <td>I saw this film in a sneak preview, and it is ...</td>\n",
       "      <td>pos</td>\n",
       "      <td>saw sneak preview delightful cinematography un...</td>\n",
       "      <td>saw sneak preview delightful cinematography un...</td>\n",
       "    </tr>\n",
       "    <tr>\n",
       "      <th>4</th>\n",
       "      <td>Bill Paxton has taken the true story of the 19...</td>\n",
       "      <td>pos</td>\n",
       "      <td>Bill Paxton taken true story 1913 US golf open...</td>\n",
       "      <td>Bill Paxton taken true story 1913 US golf open...</td>\n",
       "    </tr>\n",
       "  </tbody>\n",
       "</table>\n",
       "</div>"
      ],
      "text/plain": [
       "                                              Review Class  \\\n",
       "0  I went and saw this movie last night after bei...   pos   \n",
       "1  Actor turned director Bill Paxton follows up h...   pos   \n",
       "2  As a recreational golfer with some knowledge o...   pos   \n",
       "3  I saw this film in a sneak preview, and it is ...   pos   \n",
       "4  Bill Paxton has taken the true story of the 19...   pos   \n",
       "\n",
       "                                    text_wo_stopfreq  \\\n",
       "0  went saw last night coaxed friends mine Ill ad...   \n",
       "1  Actor turned director Bill Paxton follows prom...   \n",
       "2  As recreational golfer knowledge sports histor...   \n",
       "3  saw sneak preview delightful cinematography un...   \n",
       "4  Bill Paxton taken true story 1913 US golf open...   \n",
       "\n",
       "                                text_wo_stopfreqrare  \n",
       "0  went saw last night coaxed friends mine Ill ad...  \n",
       "1  Actor turned director Bill Paxton follows prom...  \n",
       "2  As recreational golfer knowledge sports histor...  \n",
       "3  saw sneak preview delightful cinematography un...  \n",
       "4  Bill Paxton taken true story 1913 US golf open...  "
      ]
     },
     "execution_count": 54,
     "metadata": {},
     "output_type": "execute_result"
    }
   ],
   "source": [
    "df.drop([\"text_wo_punct\", \"text_wo_stop\"], axis=1, inplace=True)\n",
    "\n",
    "n_rare_words = 10\n",
    "RAREWORDS = set([w for (w, wc) in cnt.most_common()[:-n_rare_words-1:-1]])\n",
    "def remove_rarewords(text):\n",
    "    \"\"\"custom function to remove the rare words\"\"\"\n",
    "    return \" \".join([word for word in str(text).split() if word not in RAREWORDS])\n",
    "\n",
    "df[\"text_wo_stopfreqrare\"] = df[\"text_wo_stopfreq\"].apply(lambda text: remove_rarewords(text))\n",
    "df.head()"
   ]
  },
  {
   "cell_type": "markdown",
   "id": "8cbddf6f",
   "metadata": {},
   "source": [
    "## Emoticons Removal\n",
    "Emoticons do not have any significant for NLP classification since it repeat it self over and over again"
   ]
  },
  {
   "cell_type": "code",
   "execution_count": 55,
   "id": "e0a8418e",
   "metadata": {},
   "outputs": [],
   "source": [
    "# src : https://github.com/NeelShah18/emot/blob/master/emot/emo_unicode.py\n",
    "EMOTICONS = {\n",
    "    u\":‑\\)\":\"Happy face or smiley\",\n",
    "    u\":\\)\":\"Happy face or smiley\",\n",
    "    u\":-\\]\":\"Happy face or smiley\",\n",
    "    u\":\\]\":\"Happy face or smiley\",\n",
    "    u\":-3\":\"Happy face smiley\",\n",
    "    u\":3\":\"Happy face smiley\",\n",
    "    u\":->\":\"Happy face smiley\",\n",
    "    u\":>\":\"Happy face smiley\",\n",
    "    u\"8-\\)\":\"Happy face smiley\",\n",
    "    u\":o\\)\":\"Happy face smiley\",\n",
    "    u\":-\\}\":\"Happy face smiley\",\n",
    "    u\":\\}\":\"Happy face smiley\",\n",
    "    u\":-\\)\":\"Happy face smiley\",\n",
    "    u\":c\\)\":\"Happy face smiley\",\n",
    "    u\":\\^\\)\":\"Happy face smiley\",\n",
    "    u\"=\\]\":\"Happy face smiley\",\n",
    "    u\"=\\)\":\"Happy face smiley\"\n",
    "}"
   ]
  },
  {
   "cell_type": "code",
   "execution_count": 56,
   "id": "199613cf",
   "metadata": {},
   "outputs": [
    {
     "data": {
      "text/plain": [
       "'Hello '"
      ]
     },
     "execution_count": 56,
     "metadata": {},
     "output_type": "execute_result"
    }
   ],
   "source": [
    "def remove_emoticons(text):\n",
    "    emoticon_pattern = re.compile(u'(' + u'|'.join(k for k in EMOTICONS) + u')')\n",
    "    return emoticon_pattern.sub(r'', text)\n",
    "\n",
    "remove_emoticons(\"Hello :-)\")"
   ]
  },
  {
   "cell_type": "markdown",
   "id": "cbda6713",
   "metadata": {},
   "source": [
    "## Conversion of Emoticons/Emojis to Words"
   ]
  },
  {
   "cell_type": "code",
   "execution_count": 57,
   "id": "aaaaee77",
   "metadata": {},
   "outputs": [
    {
     "data": {
      "text/plain": [
       "'Hello Happy_face_smiley Happy_face_smiley'"
      ]
     },
     "execution_count": 57,
     "metadata": {},
     "output_type": "execute_result"
    }
   ],
   "source": [
    "def convert_emoticons(text):\n",
    "    for emot in EMOTICONS:\n",
    "        text = re.sub(u'('+emot+')', \"_\".join(EMOTICONS[emot].replace(\",\",\"\").split()), text)\n",
    "    return text\n",
    "\n",
    "text = \"Hello :-) :-)\"\n",
    "convert_emoticons(text)"
   ]
  },
  {
   "cell_type": "markdown",
   "id": "9bc2da94",
   "metadata": {},
   "source": [
    "## URLs Removal\n",
    "URLS do not have any significant for NLP classification. So its just noise\n",
    "let say 10000 of people juse same url wich wont be usefull for us in NLP"
   ]
  },
  {
   "cell_type": "code",
   "execution_count": 58,
   "id": "bda5336d",
   "metadata": {},
   "outputs": [],
   "source": [
    "def remove_urls(text):\n",
    "    url_pattern = re.compile(r'https?://\\S+|www\\.\\S+')\n",
    "    return url_pattern.sub(r'', text)"
   ]
  },
  {
   "cell_type": "code",
   "execution_count": 59,
   "id": "2fdc77de",
   "metadata": {},
   "outputs": [
    {
     "data": {
      "text/plain": [
       "'Check the documentation at '"
      ]
     },
     "execution_count": 59,
     "metadata": {},
     "output_type": "execute_result"
    }
   ],
   "source": [
    "text = \"Check the documentation at https://docs.python.org/3/\"\n",
    "remove_urls(text)"
   ]
  },
  {
   "cell_type": "code",
   "execution_count": null,
   "id": "9835c0d9",
   "metadata": {},
   "outputs": [],
   "source": []
  }
 ],
 "metadata": {
  "kernelspec": {
   "display_name": "Python 3 (ipykernel)",
   "language": "python",
   "name": "python3"
  },
  "language_info": {
   "codemirror_mode": {
    "name": "ipython",
    "version": 3
   },
   "file_extension": ".py",
   "mimetype": "text/x-python",
   "name": "python",
   "nbconvert_exporter": "python",
   "pygments_lexer": "ipython3",
   "version": "3.9.12"
  }
 },
 "nbformat": 4,
 "nbformat_minor": 5
}
